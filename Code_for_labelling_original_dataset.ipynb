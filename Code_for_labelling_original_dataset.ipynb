{
  "nbformat": 4,
  "nbformat_minor": 0,
  "metadata": {
    "colab": {
      "provenance": [],
      "mount_file_id": "15ONhTjYIqbYivx9BcByMxGocig8dw1-E",
      "authorship_tag": "ABX9TyNPXUfl2Ug2zatrpLVnJFy1",
      "include_colab_link": true
    },
    "kernelspec": {
      "name": "python3",
      "display_name": "Python 3"
    },
    "language_info": {
      "name": "python"
    }
  },
  "cells": [
    {
      "cell_type": "markdown",
      "metadata": {
        "id": "view-in-github",
        "colab_type": "text"
      },
      "source": [
        "<a href=\"https://colab.research.google.com/github/Ani-Michael/Analyzing-timbre-and-predicting-emotional-trajectory-in-Nigerian-music-with-Deep-learning/blob/main/Code_for_labelling_original_dataset.ipynb\" target=\"_parent\"><img src=\"https://colab.research.google.com/assets/colab-badge.svg\" alt=\"Open In Colab\"/></a>"
      ]
    },
    {
      "cell_type": "code",
      "execution_count": 2,
      "metadata": {
        "colab": {
          "base_uri": "https://localhost:8080/"
        },
        "id": "7jzMPUzm8Y-S",
        "outputId": "3f8fa743-dd78-4040-b1e1-f8d62c2a0700"
      },
      "outputs": [
        {
          "output_type": "stream",
          "name": "stdout",
          "text": [
            "Dataset updated with emotion labels and saved as 'labeled_dataset.csv'\n"
          ]
        }
      ],
      "source": [
        "import pandas as pd\n",
        "\n",
        "# Load dataset\n",
        "df = pd.read_csv(\"/content/nigerian_spotify_songs1 (1).csv\")  # Replace with your actual file name\n",
        "\n",
        "# Define a function to assign emotions based on features\n",
        "def assign_emotion(row):\n",
        "    if row['energy'] > 0.7 and row['danceability'] > 0.6:\n",
        "        return \"Happy\"\n",
        "    elif row['energy'] < 0.4 and row['danceability'] < 0.5:\n",
        "        return \"Sad\"\n",
        "    elif row['energy'] > 0.8 and row['loudness'] > -5:\n",
        "        return \"Angry\"\n",
        "    elif row['energy'] > 0.6 and row['tempo'] > 120:\n",
        "        return \"Excited\"\n",
        "    else:\n",
        "        return \"Neutral\"  # If it doesn't strongly fit an emotion\n",
        "\n",
        "# Apply the function to create a new column for emotions\n",
        "df['emotion'] = df.apply(assign_emotion, axis=1)\n",
        "\n",
        "# Save the new dataset with emotions\n",
        "df.to_csv(\"labeled_dataset.csv\", index=False)\n",
        "\n",
        "print(\"Dataset updated with emotion labels and saved as 'labeled_dataset.csv'\")\n"
      ]
    }
  ]
}